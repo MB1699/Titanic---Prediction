{
 "cells": [
  {
   "cell_type": "code",
   "execution_count": 2,
   "id": "00a6b754-d4fd-45cd-8887-0671c7af5f2e",
   "metadata": {},
   "outputs": [
    {
     "name": "stdout",
     "output_type": "stream",
     "text": [
      "Submission file 'submission.csv' saved!\n"
     ]
    }
   ],
   "source": [
    "import pandas as pd\n",
    "from sklearn.ensemble import RandomForestClassifier\n",
    "from sklearn.model_selection import train_test_split\n",
    "from sklearn.metrics import accuracy_score\n",
    "from sklearn.impute import SimpleImputer\n",
    "\n",
    "# Load Data\n",
    "train_df = pd.read_csv('train.csv')\n",
    "test_df = pd.read_csv('test.csv')\n",
    "\n",
    "# Combine datasets for easier preprocessing\n",
    "full_df = pd.concat([train_df, test_df], sort=False)\n",
    "\n",
    "# Basic Cleaning and Feature Engineering\n",
    "full_df['Sex'] = full_df['Sex'].map({'male': 0, 'female': 1})\n",
    "full_df['Embarked'] = full_df['Embarked'].fillna('S')\n",
    "full_df['Embarked'] = full_df['Embarked'].map({'S': 0, 'C': 1, 'Q': 2})\n",
    "full_df['Fare'] = full_df['Fare'].fillna(full_df['Fare'].median())\n",
    "full_df['Age'] = full_df['Age'].fillna(full_df['Age'].median())\n",
    "\n",
    "# Features to Use\n",
    "features = ['Pclass', 'Sex', 'Age', 'SibSp', 'Parch', 'Fare', 'Embarked']\n",
    "\n",
    "# Split the data again\n",
    "X_train = full_df.loc[full_df['Survived'].notnull(), features]\n",
    "y_train = full_df.loc[full_df['Survived'].notnull(), 'Survived']\n",
    "X_test = full_df.loc[full_df['Survived'].isnull(), features]\n",
    "\n",
    "# Build the Model\n",
    "model = RandomForestClassifier(n_estimators=100, random_state=42)\n",
    "model.fit(X_train, y_train)\n",
    "\n",
    "# Predict\n",
    "predictions = model.predict(X_test)\n",
    "\n",
    "# Prepare Submission File\n",
    "submission = pd.DataFrame({\n",
    "    'PassengerId': test_df['PassengerId'],\n",
    "    'Survived': predictions\n",
    "})\n",
    "\n",
    "submission.to_csv('submission.csv', index=False)\n",
    "print(\"Submission file 'submission.csv' saved!\")\n"
   ]
  },
  {
   "cell_type": "code",
   "execution_count": 3,
   "id": "725cfa9a-0de1-4700-96a4-7040f8e4439c",
   "metadata": {},
   "outputs": [
    {
     "name": "stderr",
     "output_type": "stream",
     "text": [
      "C:\\Users\\Muskan\\anaconda3\\Lib\\site-packages\\xgboost\\training.py:183: UserWarning: [00:18:33] WARNING: C:\\actions-runner\\_work\\xgboost\\xgboost\\src\\learner.cc:738: \n",
      "Parameters: { \"use_label_encoder\" } are not used.\n",
      "\n",
      "  bst.update(dtrain, iteration=i, fobj=obj)\n"
     ]
    },
    {
     "name": "stdout",
     "output_type": "stream",
     "text": [
      "✅ XGBoost predictions saved to 'xgb_submission.csv'\n"
     ]
    }
   ],
   "source": [
    "import pandas as pd\n",
    "import xgboost as xgb\n",
    "from sklearn.model_selection import train_test_split\n",
    "from sklearn.metrics import accuracy_score\n",
    "\n",
    "# Load the data\n",
    "train_df = pd.read_csv('train.csv')\n",
    "test_df = pd.read_csv('test.csv')\n",
    "\n",
    "# Combine for consistent preprocessing\n",
    "full_df = pd.concat([train_df, test_df], sort=False)\n",
    "\n",
    "# Handle missing values and convert categories\n",
    "full_df['Sex'] = full_df['Sex'].map({'male': 0, 'female': 1})\n",
    "full_df['Embarked'] = full_df['Embarked'].fillna('S')\n",
    "full_df['Embarked'] = full_df['Embarked'].map({'S': 0, 'C': 1, 'Q': 2})\n",
    "full_df['Fare'] = full_df['Fare'].fillna(full_df['Fare'].median())\n",
    "full_df['Age'] = full_df['Age'].fillna(full_df['Age'].median())\n",
    "\n",
    "# Features to use\n",
    "features = ['Pclass', 'Sex', 'Age', 'SibSp', 'Parch', 'Fare', 'Embarked']\n",
    "\n",
    "# Prepare training and test sets\n",
    "X_train = full_df.loc[full_df['Survived'].notnull(), features]\n",
    "y_train = full_df.loc[full_df['Survived'].notnull(), 'Survived']\n",
    "X_test  = full_df.loc[full_df['Survived'].isnull(), features]\n",
    "\n",
    "# Create XGBoost model\n",
    "model = xgb.XGBClassifier(n_estimators=100, use_label_encoder=False, eval_metric='logloss', random_state=42)\n",
    "\n",
    "# Train the model\n",
    "model.fit(X_train, y_train)\n",
    "\n",
    "# Predict on test set\n",
    "predictions = model.predict(X_test)\n",
    "\n",
    "# Save predictions\n",
    "submission = pd.DataFrame({\n",
    "    'PassengerId': test_df['PassengerId'],\n",
    "    'Survived': predictions\n",
    "})\n",
    "\n",
    "submission.to_csv('xgb_submission.csv', index=False)\n",
    "print(\" XGBoost predictions saved to 'xgb_submission.csv'\")\n"
   ]
  },
  {
   "cell_type": "code",
   "execution_count": null,
   "id": "51638622-a433-4df7-ad4e-58e7013a45ab",
   "metadata": {},
   "outputs": [],
   "source": []
  }
 ],
 "metadata": {
  "kernelspec": {
   "display_name": "Python 3 (ipykernel)",
   "language": "python",
   "name": "python3"
  },
  "language_info": {
   "codemirror_mode": {
    "name": "ipython",
    "version": 3
   },
   "file_extension": ".py",
   "mimetype": "text/x-python",
   "name": "python",
   "nbconvert_exporter": "python",
   "pygments_lexer": "ipython3",
   "version": "3.12.7"
  }
 },
 "nbformat": 4,
 "nbformat_minor": 5
}
